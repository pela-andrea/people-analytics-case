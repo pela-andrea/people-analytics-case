{
  "nbformat": 4,
  "nbformat_minor": 0,
  "metadata": {
    "colab": {
      "provenance": [],
      "authorship_tag": "ABX9TyOX7XK9+fB432mdf7RFKEGm",
      "include_colab_link": true
    },
    "kernelspec": {
      "name": "python3",
      "display_name": "Python 3"
    },
    "language_info": {
      "name": "python"
    }
  },
  "cells": [
    {
      "cell_type": "markdown",
      "metadata": {
        "id": "view-in-github",
        "colab_type": "text"
      },
      "source": [
        "<a href=\"https://colab.research.google.com/github/pela-andrea/people-analytics-case/blob/feat%2Fdivisao-tabelas/scripts/02_divisao_tabelas.ipynb\" target=\"_parent\"><img src=\"https://colab.research.google.com/assets/colab-badge.svg\" alt=\"Open In Colab\"/></a>"
      ]
    },
    {
      "cell_type": "markdown",
      "source": [
        "#Estudo de Base de Dados RH – Case Técnico"
      ],
      "metadata": {
        "id": "c0wwUZSP_9s6"
      }
    },
    {
      "cell_type": "markdown",
      "source": [
        "#Introdução\n",
        "\n",
        "Neste notebook, daremos continuidade ao processo de preparação dos dados para análise, realizando a classificação e segmentação da base original em múltiplas tabelas organizadas segundo critérios específicos. O objetivo é estruturar os dados de forma mais eficiente para análises futuras e uso no Power BI, aplicando conceitos de modelagem como fato e dimensão, quando pertinente.\n",
        "\n",
        "As principais etapas deste notebook incluem:\n",
        "\n",
        "- Aplicar classificações relevantes para separar as informações em grupos lógicos;\n",
        "- Dividir a base de dados original em diversas tabelas e nomear os arquivos gerados seguindo o padrão **tabela_nome.csv**, garantindo organizaçãoo;\n",
        "- Salvar as tabelas finais para utilização no PowerBI.\n"
      ],
      "metadata": {
        "id": "UP4Tr3P0Qanz"
      }
    },
    {
      "cell_type": "markdown",
      "source": [
        "#**Etapa 01 - Exploração dos dados**"
      ],
      "metadata": {
        "id": "3YmiGTDhGkKp"
      }
    },
    {
      "cell_type": "markdown",
      "source": [
        "##Declaração das LIBS"
      ],
      "metadata": {
        "id": "IqZWSKBz7pr0"
      }
    },
    {
      "cell_type": "code",
      "execution_count": 24,
      "metadata": {
        "id": "ITef2RvF7a4S"
      },
      "outputs": [],
      "source": [
        "# Principais\n",
        "import pandas as pd\n",
        "import numpy as np\n",
        "\n",
        "# Para visualização\n",
        "import matplotlib.pyplot as plt\n",
        "import seaborn as sns\n",
        "\n",
        "# Para tratamento de datas e warnings\n",
        "from datetime import datetime\n",
        "import warnings\n",
        "warnings.filterwarnings('ignore')\n",
        "\n",
        "#Para salvar os arquivos gerados, localmente\n",
        "from google.colab import files"
      ]
    },
    {
      "cell_type": "markdown",
      "source": [
        "##Configuração do pandas"
      ],
      "metadata": {
        "id": "KtfzpYEAfGkH"
      }
    },
    {
      "cell_type": "code",
      "source": [
        "# Exibir todas as colunas do dataframe\n",
        "pd.set_option('display.max_columns', None)"
      ],
      "metadata": {
        "id": "Pa8EOwNufIun"
      },
      "execution_count": 25,
      "outputs": []
    },
    {
      "cell_type": "markdown",
      "source": [
        "##Importação e Extração dos dados"
      ],
      "metadata": {
        "id": "GbnX0TtHywU9"
      }
    },
    {
      "cell_type": "code",
      "source": [
        "#Importando a base original diretamente do repositório GitHub\n",
        "url = 'https://raw.githubusercontent.com/pela-andrea/people-analytics-case/main/data/base_corrigida.csv'\n",
        "\n",
        "df = pd.read_csv(url, sep=';', decimal=',', encoding='utf-8')"
      ],
      "metadata": {
        "id": "R_jx7tFIR8Fx"
      },
      "execution_count": 26,
      "outputs": []
    },
    {
      "cell_type": "code",
      "source": [
        "#Volume do DataSet\n",
        "df.shape"
      ],
      "metadata": {
        "colab": {
          "base_uri": "https://localhost:8080/"
        },
        "id": "j6-SRa3nm9MB",
        "outputId": "c0aac8b1-dddf-4a23-e9af-5ba97b858c3d"
      },
      "execution_count": 27,
      "outputs": [
        {
          "output_type": "execute_result",
          "data": {
            "text/plain": [
              "(50000, 34)"
            ]
          },
          "metadata": {},
          "execution_count": 27
        }
      ]
    },
    {
      "cell_type": "code",
      "source": [
        "df.head()"
      ],
      "metadata": {
        "id": "48XUEbMVgJBt",
        "outputId": "0bb960ad-bbcf-4ddc-912b-e37f772e8f29",
        "colab": {
          "base_uri": "https://localhost:8080/",
          "height": 365
        }
      },
      "execution_count": 28,
      "outputs": [
        {
          "output_type": "execute_result",
          "data": {
            "text/plain": [
              "  ID do Colaborador                 Cargo      Departamento     Localização  \\\n",
              "0         EMP_00001         Gerente de RH        Financeiro        Salvador   \n",
              "1         EMP_00002   Engenheiro de Dados         Marketing  Belo Horizonte   \n",
              "2         EMP_00003  Desenvolvedor Python         Operações        Salvador   \n",
              "3         EMP_00004   Analista Financeiro         Operações    Porto Alegre   \n",
              "4         EMP_00005   Engenheiro de Dados  Recursos Humanos        Curitiba   \n",
              "\n",
              "   Salário Data de Admissão Data de Demissão Está Ativo  Dias de Falta  \\\n",
              "0  6993.43       2022-02-26              NaN        Sim              3   \n",
              "1  5723.47       2023-03-04              NaN        Sim              1   \n",
              "2  7295.38       2010-09-01              NaN        Sim              3   \n",
              "3  9046.06       2020-02-26              NaN        Sim              2   \n",
              "4  5531.69       2011-06-22              NaN        Sim              1   \n",
              "\n",
              "   Dias de Licença Médica  Dias de Férias Usufruídos  Banco de Horas  \\\n",
              "0                       2                         13              52   \n",
              "1                       1                         14             -80   \n",
              "2                       5                         25             149   \n",
              "3                       1                         21             -92   \n",
              "4                       2                         15              93   \n",
              "\n",
              "   Horas Extras  Quantidade de Atrasos     Gênero   Estado Civil  \\\n",
              "0            20                      6      Outro       Viúvo(a)   \n",
              "1            86                      6  Masculino      Casado(a)   \n",
              "2            23                      1   Feminino  Divorciado(a)   \n",
              "3            22                      5  Masculino      Casado(a)   \n",
              "4            72                      3  Masculino    Solteiro(a)   \n",
              "\n",
              "   Número de Dependentes Nível de Escolaridade  Avaliação de Desempenho  \\\n",
              "0                      4             Graduação                        5   \n",
              "1                      1             Graduação                        5   \n",
              "2                      1              Mestrado                        4   \n",
              "3                      0             Graduação                        3   \n",
              "4                      0             Graduação                        2   \n",
              "\n",
              "   Percentual de Bônus  Turno Tipo de Contrato Centro de Custo  \\\n",
              "0                 7.58  Manhã       Permanente           CC013   \n",
              "1                 8.72  Manhã       Temporário           CC026   \n",
              "2                 7.93  Manhã       Permanente           CC010   \n",
              "3                 5.27  Manhã       Permanente           CC008   \n",
              "4                10.95  Tarde       Permanente           CC013   \n",
              "\n",
              "  Status de Conformidade Plano de Saúde                  Email  \\\n",
              "0        Em conformidade         Padrão  emp_00001@company.com   \n",
              "1        Em conformidade         Básico  emp_00002@company.com   \n",
              "2        Em conformidade         Básico  emp_00003@company.com   \n",
              "3        Em conformidade         Padrão  emp_00004@company.com   \n",
              "4        Em conformidade        Premium  emp_00005@company.com   \n",
              "\n",
              "   Tempo de Empresa (anos) Período de Experiência Concluído ID do Gestor  \\\n",
              "0                     3.34                              Sim    EMP_00495   \n",
              "1                     2.33                              Sim    EMP_00345   \n",
              "2                    14.84                              Sim    EMP_00306   \n",
              "3                     5.35                              Sim    EMP_00971   \n",
              "4                    14.03                              Sim    EMP_00024   \n",
              "\n",
              "  Data da Última Promoção Data do Último Treinamento  \\\n",
              "0                     NaN                 2024-07-04   \n",
              "1              2024-07-21                 2024-02-01   \n",
              "2              2014-10-18                 2024-01-11   \n",
              "3                     NaN                 2025-01-05   \n",
              "4                     NaN                 2025-01-19   \n",
              "\n",
              "  Flag: Promoção após Demissão Flag: Demissão antes de Admissão  \\\n",
              "0                          Não                              Não   \n",
              "1                          Não                              Não   \n",
              "2                          Não                              Não   \n",
              "3                          Não                              Não   \n",
              "4                          Não                              Não   \n",
              "\n",
              "  Flag: Treinamento Antes da Admissão  \n",
              "0                                 Não  \n",
              "1                                 Não  \n",
              "2                                 Não  \n",
              "3                                 Não  \n",
              "4                                 Não  "
            ],
            "text/html": [
              "\n",
              "  <div id=\"df-06dd6870-146f-4eb2-9710-a367abeadc90\" class=\"colab-df-container\">\n",
              "    <div>\n",
              "<style scoped>\n",
              "    .dataframe tbody tr th:only-of-type {\n",
              "        vertical-align: middle;\n",
              "    }\n",
              "\n",
              "    .dataframe tbody tr th {\n",
              "        vertical-align: top;\n",
              "    }\n",
              "\n",
              "    .dataframe thead th {\n",
              "        text-align: right;\n",
              "    }\n",
              "</style>\n",
              "<table border=\"1\" class=\"dataframe\">\n",
              "  <thead>\n",
              "    <tr style=\"text-align: right;\">\n",
              "      <th></th>\n",
              "      <th>ID do Colaborador</th>\n",
              "      <th>Cargo</th>\n",
              "      <th>Departamento</th>\n",
              "      <th>Localização</th>\n",
              "      <th>Salário</th>\n",
              "      <th>Data de Admissão</th>\n",
              "      <th>Data de Demissão</th>\n",
              "      <th>Está Ativo</th>\n",
              "      <th>Dias de Falta</th>\n",
              "      <th>Dias de Licença Médica</th>\n",
              "      <th>Dias de Férias Usufruídos</th>\n",
              "      <th>Banco de Horas</th>\n",
              "      <th>Horas Extras</th>\n",
              "      <th>Quantidade de Atrasos</th>\n",
              "      <th>Gênero</th>\n",
              "      <th>Estado Civil</th>\n",
              "      <th>Número de Dependentes</th>\n",
              "      <th>Nível de Escolaridade</th>\n",
              "      <th>Avaliação de Desempenho</th>\n",
              "      <th>Percentual de Bônus</th>\n",
              "      <th>Turno</th>\n",
              "      <th>Tipo de Contrato</th>\n",
              "      <th>Centro de Custo</th>\n",
              "      <th>Status de Conformidade</th>\n",
              "      <th>Plano de Saúde</th>\n",
              "      <th>Email</th>\n",
              "      <th>Tempo de Empresa (anos)</th>\n",
              "      <th>Período de Experiência Concluído</th>\n",
              "      <th>ID do Gestor</th>\n",
              "      <th>Data da Última Promoção</th>\n",
              "      <th>Data do Último Treinamento</th>\n",
              "      <th>Flag: Promoção após Demissão</th>\n",
              "      <th>Flag: Demissão antes de Admissão</th>\n",
              "      <th>Flag: Treinamento Antes da Admissão</th>\n",
              "    </tr>\n",
              "  </thead>\n",
              "  <tbody>\n",
              "    <tr>\n",
              "      <th>0</th>\n",
              "      <td>EMP_00001</td>\n",
              "      <td>Gerente de RH</td>\n",
              "      <td>Financeiro</td>\n",
              "      <td>Salvador</td>\n",
              "      <td>6993.43</td>\n",
              "      <td>2022-02-26</td>\n",
              "      <td>NaN</td>\n",
              "      <td>Sim</td>\n",
              "      <td>3</td>\n",
              "      <td>2</td>\n",
              "      <td>13</td>\n",
              "      <td>52</td>\n",
              "      <td>20</td>\n",
              "      <td>6</td>\n",
              "      <td>Outro</td>\n",
              "      <td>Viúvo(a)</td>\n",
              "      <td>4</td>\n",
              "      <td>Graduação</td>\n",
              "      <td>5</td>\n",
              "      <td>7.58</td>\n",
              "      <td>Manhã</td>\n",
              "      <td>Permanente</td>\n",
              "      <td>CC013</td>\n",
              "      <td>Em conformidade</td>\n",
              "      <td>Padrão</td>\n",
              "      <td>emp_00001@company.com</td>\n",
              "      <td>3.34</td>\n",
              "      <td>Sim</td>\n",
              "      <td>EMP_00495</td>\n",
              "      <td>NaN</td>\n",
              "      <td>2024-07-04</td>\n",
              "      <td>Não</td>\n",
              "      <td>Não</td>\n",
              "      <td>Não</td>\n",
              "    </tr>\n",
              "    <tr>\n",
              "      <th>1</th>\n",
              "      <td>EMP_00002</td>\n",
              "      <td>Engenheiro de Dados</td>\n",
              "      <td>Marketing</td>\n",
              "      <td>Belo Horizonte</td>\n",
              "      <td>5723.47</td>\n",
              "      <td>2023-03-04</td>\n",
              "      <td>NaN</td>\n",
              "      <td>Sim</td>\n",
              "      <td>1</td>\n",
              "      <td>1</td>\n",
              "      <td>14</td>\n",
              "      <td>-80</td>\n",
              "      <td>86</td>\n",
              "      <td>6</td>\n",
              "      <td>Masculino</td>\n",
              "      <td>Casado(a)</td>\n",
              "      <td>1</td>\n",
              "      <td>Graduação</td>\n",
              "      <td>5</td>\n",
              "      <td>8.72</td>\n",
              "      <td>Manhã</td>\n",
              "      <td>Temporário</td>\n",
              "      <td>CC026</td>\n",
              "      <td>Em conformidade</td>\n",
              "      <td>Básico</td>\n",
              "      <td>emp_00002@company.com</td>\n",
              "      <td>2.33</td>\n",
              "      <td>Sim</td>\n",
              "      <td>EMP_00345</td>\n",
              "      <td>2024-07-21</td>\n",
              "      <td>2024-02-01</td>\n",
              "      <td>Não</td>\n",
              "      <td>Não</td>\n",
              "      <td>Não</td>\n",
              "    </tr>\n",
              "    <tr>\n",
              "      <th>2</th>\n",
              "      <td>EMP_00003</td>\n",
              "      <td>Desenvolvedor Python</td>\n",
              "      <td>Operações</td>\n",
              "      <td>Salvador</td>\n",
              "      <td>7295.38</td>\n",
              "      <td>2010-09-01</td>\n",
              "      <td>NaN</td>\n",
              "      <td>Sim</td>\n",
              "      <td>3</td>\n",
              "      <td>5</td>\n",
              "      <td>25</td>\n",
              "      <td>149</td>\n",
              "      <td>23</td>\n",
              "      <td>1</td>\n",
              "      <td>Feminino</td>\n",
              "      <td>Divorciado(a)</td>\n",
              "      <td>1</td>\n",
              "      <td>Mestrado</td>\n",
              "      <td>4</td>\n",
              "      <td>7.93</td>\n",
              "      <td>Manhã</td>\n",
              "      <td>Permanente</td>\n",
              "      <td>CC010</td>\n",
              "      <td>Em conformidade</td>\n",
              "      <td>Básico</td>\n",
              "      <td>emp_00003@company.com</td>\n",
              "      <td>14.84</td>\n",
              "      <td>Sim</td>\n",
              "      <td>EMP_00306</td>\n",
              "      <td>2014-10-18</td>\n",
              "      <td>2024-01-11</td>\n",
              "      <td>Não</td>\n",
              "      <td>Não</td>\n",
              "      <td>Não</td>\n",
              "    </tr>\n",
              "    <tr>\n",
              "      <th>3</th>\n",
              "      <td>EMP_00004</td>\n",
              "      <td>Analista Financeiro</td>\n",
              "      <td>Operações</td>\n",
              "      <td>Porto Alegre</td>\n",
              "      <td>9046.06</td>\n",
              "      <td>2020-02-26</td>\n",
              "      <td>NaN</td>\n",
              "      <td>Sim</td>\n",
              "      <td>2</td>\n",
              "      <td>1</td>\n",
              "      <td>21</td>\n",
              "      <td>-92</td>\n",
              "      <td>22</td>\n",
              "      <td>5</td>\n",
              "      <td>Masculino</td>\n",
              "      <td>Casado(a)</td>\n",
              "      <td>0</td>\n",
              "      <td>Graduação</td>\n",
              "      <td>3</td>\n",
              "      <td>5.27</td>\n",
              "      <td>Manhã</td>\n",
              "      <td>Permanente</td>\n",
              "      <td>CC008</td>\n",
              "      <td>Em conformidade</td>\n",
              "      <td>Padrão</td>\n",
              "      <td>emp_00004@company.com</td>\n",
              "      <td>5.35</td>\n",
              "      <td>Sim</td>\n",
              "      <td>EMP_00971</td>\n",
              "      <td>NaN</td>\n",
              "      <td>2025-01-05</td>\n",
              "      <td>Não</td>\n",
              "      <td>Não</td>\n",
              "      <td>Não</td>\n",
              "    </tr>\n",
              "    <tr>\n",
              "      <th>4</th>\n",
              "      <td>EMP_00005</td>\n",
              "      <td>Engenheiro de Dados</td>\n",
              "      <td>Recursos Humanos</td>\n",
              "      <td>Curitiba</td>\n",
              "      <td>5531.69</td>\n",
              "      <td>2011-06-22</td>\n",
              "      <td>NaN</td>\n",
              "      <td>Sim</td>\n",
              "      <td>1</td>\n",
              "      <td>2</td>\n",
              "      <td>15</td>\n",
              "      <td>93</td>\n",
              "      <td>72</td>\n",
              "      <td>3</td>\n",
              "      <td>Masculino</td>\n",
              "      <td>Solteiro(a)</td>\n",
              "      <td>0</td>\n",
              "      <td>Graduação</td>\n",
              "      <td>2</td>\n",
              "      <td>10.95</td>\n",
              "      <td>Tarde</td>\n",
              "      <td>Permanente</td>\n",
              "      <td>CC013</td>\n",
              "      <td>Em conformidade</td>\n",
              "      <td>Premium</td>\n",
              "      <td>emp_00005@company.com</td>\n",
              "      <td>14.03</td>\n",
              "      <td>Sim</td>\n",
              "      <td>EMP_00024</td>\n",
              "      <td>NaN</td>\n",
              "      <td>2025-01-19</td>\n",
              "      <td>Não</td>\n",
              "      <td>Não</td>\n",
              "      <td>Não</td>\n",
              "    </tr>\n",
              "  </tbody>\n",
              "</table>\n",
              "</div>\n",
              "    <div class=\"colab-df-buttons\">\n",
              "\n",
              "  <div class=\"colab-df-container\">\n",
              "    <button class=\"colab-df-convert\" onclick=\"convertToInteractive('df-06dd6870-146f-4eb2-9710-a367abeadc90')\"\n",
              "            title=\"Convert this dataframe to an interactive table.\"\n",
              "            style=\"display:none;\">\n",
              "\n",
              "  <svg xmlns=\"http://www.w3.org/2000/svg\" height=\"24px\" viewBox=\"0 -960 960 960\">\n",
              "    <path d=\"M120-120v-720h720v720H120Zm60-500h600v-160H180v160Zm220 220h160v-160H400v160Zm0 220h160v-160H400v160ZM180-400h160v-160H180v160Zm440 0h160v-160H620v160ZM180-180h160v-160H180v160Zm440 0h160v-160H620v160Z\"/>\n",
              "  </svg>\n",
              "    </button>\n",
              "\n",
              "  <style>\n",
              "    .colab-df-container {\n",
              "      display:flex;\n",
              "      gap: 12px;\n",
              "    }\n",
              "\n",
              "    .colab-df-convert {\n",
              "      background-color: #E8F0FE;\n",
              "      border: none;\n",
              "      border-radius: 50%;\n",
              "      cursor: pointer;\n",
              "      display: none;\n",
              "      fill: #1967D2;\n",
              "      height: 32px;\n",
              "      padding: 0 0 0 0;\n",
              "      width: 32px;\n",
              "    }\n",
              "\n",
              "    .colab-df-convert:hover {\n",
              "      background-color: #E2EBFA;\n",
              "      box-shadow: 0px 1px 2px rgba(60, 64, 67, 0.3), 0px 1px 3px 1px rgba(60, 64, 67, 0.15);\n",
              "      fill: #174EA6;\n",
              "    }\n",
              "\n",
              "    .colab-df-buttons div {\n",
              "      margin-bottom: 4px;\n",
              "    }\n",
              "\n",
              "    [theme=dark] .colab-df-convert {\n",
              "      background-color: #3B4455;\n",
              "      fill: #D2E3FC;\n",
              "    }\n",
              "\n",
              "    [theme=dark] .colab-df-convert:hover {\n",
              "      background-color: #434B5C;\n",
              "      box-shadow: 0px 1px 3px 1px rgba(0, 0, 0, 0.15);\n",
              "      filter: drop-shadow(0px 1px 2px rgba(0, 0, 0, 0.3));\n",
              "      fill: #FFFFFF;\n",
              "    }\n",
              "  </style>\n",
              "\n",
              "    <script>\n",
              "      const buttonEl =\n",
              "        document.querySelector('#df-06dd6870-146f-4eb2-9710-a367abeadc90 button.colab-df-convert');\n",
              "      buttonEl.style.display =\n",
              "        google.colab.kernel.accessAllowed ? 'block' : 'none';\n",
              "\n",
              "      async function convertToInteractive(key) {\n",
              "        const element = document.querySelector('#df-06dd6870-146f-4eb2-9710-a367abeadc90');\n",
              "        const dataTable =\n",
              "          await google.colab.kernel.invokeFunction('convertToInteractive',\n",
              "                                                    [key], {});\n",
              "        if (!dataTable) return;\n",
              "\n",
              "        const docLinkHtml = 'Like what you see? Visit the ' +\n",
              "          '<a target=\"_blank\" href=https://colab.research.google.com/notebooks/data_table.ipynb>data table notebook</a>'\n",
              "          + ' to learn more about interactive tables.';\n",
              "        element.innerHTML = '';\n",
              "        dataTable['output_type'] = 'display_data';\n",
              "        await google.colab.output.renderOutput(dataTable, element);\n",
              "        const docLink = document.createElement('div');\n",
              "        docLink.innerHTML = docLinkHtml;\n",
              "        element.appendChild(docLink);\n",
              "      }\n",
              "    </script>\n",
              "  </div>\n",
              "\n",
              "\n",
              "    <div id=\"df-914937f7-5bab-4b86-a287-340b50cdceda\">\n",
              "      <button class=\"colab-df-quickchart\" onclick=\"quickchart('df-914937f7-5bab-4b86-a287-340b50cdceda')\"\n",
              "                title=\"Suggest charts\"\n",
              "                style=\"display:none;\">\n",
              "\n",
              "<svg xmlns=\"http://www.w3.org/2000/svg\" height=\"24px\"viewBox=\"0 0 24 24\"\n",
              "     width=\"24px\">\n",
              "    <g>\n",
              "        <path d=\"M19 3H5c-1.1 0-2 .9-2 2v14c0 1.1.9 2 2 2h14c1.1 0 2-.9 2-2V5c0-1.1-.9-2-2-2zM9 17H7v-7h2v7zm4 0h-2V7h2v10zm4 0h-2v-4h2v4z\"/>\n",
              "    </g>\n",
              "</svg>\n",
              "      </button>\n",
              "\n",
              "<style>\n",
              "  .colab-df-quickchart {\n",
              "      --bg-color: #E8F0FE;\n",
              "      --fill-color: #1967D2;\n",
              "      --hover-bg-color: #E2EBFA;\n",
              "      --hover-fill-color: #174EA6;\n",
              "      --disabled-fill-color: #AAA;\n",
              "      --disabled-bg-color: #DDD;\n",
              "  }\n",
              "\n",
              "  [theme=dark] .colab-df-quickchart {\n",
              "      --bg-color: #3B4455;\n",
              "      --fill-color: #D2E3FC;\n",
              "      --hover-bg-color: #434B5C;\n",
              "      --hover-fill-color: #FFFFFF;\n",
              "      --disabled-bg-color: #3B4455;\n",
              "      --disabled-fill-color: #666;\n",
              "  }\n",
              "\n",
              "  .colab-df-quickchart {\n",
              "    background-color: var(--bg-color);\n",
              "    border: none;\n",
              "    border-radius: 50%;\n",
              "    cursor: pointer;\n",
              "    display: none;\n",
              "    fill: var(--fill-color);\n",
              "    height: 32px;\n",
              "    padding: 0;\n",
              "    width: 32px;\n",
              "  }\n",
              "\n",
              "  .colab-df-quickchart:hover {\n",
              "    background-color: var(--hover-bg-color);\n",
              "    box-shadow: 0 1px 2px rgba(60, 64, 67, 0.3), 0 1px 3px 1px rgba(60, 64, 67, 0.15);\n",
              "    fill: var(--button-hover-fill-color);\n",
              "  }\n",
              "\n",
              "  .colab-df-quickchart-complete:disabled,\n",
              "  .colab-df-quickchart-complete:disabled:hover {\n",
              "    background-color: var(--disabled-bg-color);\n",
              "    fill: var(--disabled-fill-color);\n",
              "    box-shadow: none;\n",
              "  }\n",
              "\n",
              "  .colab-df-spinner {\n",
              "    border: 2px solid var(--fill-color);\n",
              "    border-color: transparent;\n",
              "    border-bottom-color: var(--fill-color);\n",
              "    animation:\n",
              "      spin 1s steps(1) infinite;\n",
              "  }\n",
              "\n",
              "  @keyframes spin {\n",
              "    0% {\n",
              "      border-color: transparent;\n",
              "      border-bottom-color: var(--fill-color);\n",
              "      border-left-color: var(--fill-color);\n",
              "    }\n",
              "    20% {\n",
              "      border-color: transparent;\n",
              "      border-left-color: var(--fill-color);\n",
              "      border-top-color: var(--fill-color);\n",
              "    }\n",
              "    30% {\n",
              "      border-color: transparent;\n",
              "      border-left-color: var(--fill-color);\n",
              "      border-top-color: var(--fill-color);\n",
              "      border-right-color: var(--fill-color);\n",
              "    }\n",
              "    40% {\n",
              "      border-color: transparent;\n",
              "      border-right-color: var(--fill-color);\n",
              "      border-top-color: var(--fill-color);\n",
              "    }\n",
              "    60% {\n",
              "      border-color: transparent;\n",
              "      border-right-color: var(--fill-color);\n",
              "    }\n",
              "    80% {\n",
              "      border-color: transparent;\n",
              "      border-right-color: var(--fill-color);\n",
              "      border-bottom-color: var(--fill-color);\n",
              "    }\n",
              "    90% {\n",
              "      border-color: transparent;\n",
              "      border-bottom-color: var(--fill-color);\n",
              "    }\n",
              "  }\n",
              "</style>\n",
              "\n",
              "      <script>\n",
              "        async function quickchart(key) {\n",
              "          const quickchartButtonEl =\n",
              "            document.querySelector('#' + key + ' button');\n",
              "          quickchartButtonEl.disabled = true;  // To prevent multiple clicks.\n",
              "          quickchartButtonEl.classList.add('colab-df-spinner');\n",
              "          try {\n",
              "            const charts = await google.colab.kernel.invokeFunction(\n",
              "                'suggestCharts', [key], {});\n",
              "          } catch (error) {\n",
              "            console.error('Error during call to suggestCharts:', error);\n",
              "          }\n",
              "          quickchartButtonEl.classList.remove('colab-df-spinner');\n",
              "          quickchartButtonEl.classList.add('colab-df-quickchart-complete');\n",
              "        }\n",
              "        (() => {\n",
              "          let quickchartButtonEl =\n",
              "            document.querySelector('#df-914937f7-5bab-4b86-a287-340b50cdceda button');\n",
              "          quickchartButtonEl.style.display =\n",
              "            google.colab.kernel.accessAllowed ? 'block' : 'none';\n",
              "        })();\n",
              "      </script>\n",
              "    </div>\n",
              "\n",
              "    </div>\n",
              "  </div>\n"
            ],
            "application/vnd.google.colaboratory.intrinsic+json": {
              "type": "dataframe",
              "variable_name": "df"
            }
          },
          "metadata": {},
          "execution_count": 28
        }
      ]
    },
    {
      "cell_type": "code",
      "source": [
        "colunas = df.columns.tolist()\n",
        "print(colunas)"
      ],
      "metadata": {
        "id": "XYU1--aP2KCs",
        "outputId": "676185c8-44fa-4b80-87a1-f1a5f5f3c077",
        "colab": {
          "base_uri": "https://localhost:8080/"
        }
      },
      "execution_count": 30,
      "outputs": [
        {
          "output_type": "stream",
          "name": "stdout",
          "text": [
            "['ID do Colaborador', 'Cargo', 'Departamento', 'Localização', 'Salário', 'Data de Admissão', 'Data de Demissão', 'Está Ativo', 'Dias de Falta', 'Dias de Licença Médica', 'Dias de Férias Usufruídos', 'Banco de Horas', 'Horas Extras', 'Quantidade de Atrasos', 'Gênero', 'Estado Civil', 'Número de Dependentes', 'Nível de Escolaridade', 'Avaliação de Desempenho', 'Percentual de Bônus', 'Turno', 'Tipo de Contrato', 'Centro de Custo', 'Status de Conformidade', 'Plano de Saúde', 'Email', 'Tempo de Empresa (anos)', 'Período de Experiência Concluído', 'ID do Gestor', 'Data da Última Promoção', 'Data do Último Treinamento', 'Flag: Promoção após Demissão', 'Flag: Demissão antes de Admissão', 'Flag: Treinamento Antes da Admissão']\n"
          ]
        }
      ]
    },
    {
      "cell_type": "markdown",
      "source": [
        "Serão necessárias algumas alterações e tratamentos na tabela original"
      ],
      "metadata": {
        "id": "tzRPrPt5Xdg2"
      }
    },
    {
      "cell_type": "markdown",
      "source": [],
      "metadata": {
        "id": "OOH20_PcXkWM"
      }
    },
    {
      "cell_type": "markdown",
      "source": [
        "#Divisão da tabela em fato/dimensão\n",
        "Por que usar fato/dimensão aqui?\n",
        "A base simula um sistema de RH, com métricas e atributos de colaboradores.\n",
        "\n",
        "- Temos várias colunas descritivas (boas para dimensões).\n",
        "\n",
        "- Temos medidas numéricas e de tempo (ótimas para a tabela fato).\n",
        "\n",
        "- Isso também facilita filtros e relacionamentos no Power BI."
      ],
      "metadata": {
        "id": "VwlGkIVAPihM"
      }
    },
    {
      "cell_type": "markdown",
      "source": [
        "##Organização das tabelas"
      ],
      "metadata": {
        "id": "_CW0t2MXUaha"
      }
    },
    {
      "cell_type": "markdown",
      "source": [
        "tabela_d_colaborador\n",
        "Informações pessoais e contratuais"
      ],
      "metadata": {
        "id": "-ZmvAeq-UZCO"
      }
    },
    {
      "cell_type": "code",
      "source": [
        "tabeça_dColaborador = df[[\n",
        "    \"ID do Funcionário\", \"Cargo\", \"Departamento\", \"Localização\", \"Data de Admissão\",  \"Está Ativo\",\n",
        "    \"Gênero\", \"Estado Civil\", \"Nº de Dependentes\", \"Nível de Escolaridade\", \"Tipo de Contrato\",\n",
        "    \"Centro de Custo\", \"Plano de Saúde\", \"Email\", \"ID do Gestor\", \"Data de Desligamento\",\n",
        "    \"Tempo de Casa (anos)\", \"Turno\"\n",
        "]]\n"
      ],
      "metadata": {
        "id": "34dQDaPyPvwZ"
      },
      "execution_count": null,
      "outputs": []
    },
    {
      "cell_type": "markdown",
      "source": [
        "tabela_d_remuneracao\n",
        "Informações de salário, bonus, tempo de empresa"
      ],
      "metadata": {
        "id": "xGMa7sKpUolv"
      }
    },
    {
      "cell_type": "code",
      "source": [
        "dim_remuneracao = df[[\n",
        "    \"ID do Funcionário\", \"Salário\", \"Bônus (%)\", \"Tempo de Empresa (anos)\",\n",
        "    \"Período de Experiência Concluído\", \"Plano de Saúde\", \"Compliance\"\n",
        "]]\n"
      ],
      "metadata": {
        "id": "ZQp_upm5PvuB"
      },
      "execution_count": null,
      "outputs": []
    },
    {
      "cell_type": "markdown",
      "source": [
        "tabela_f_jornada Horas, ausências e atrasos"
      ],
      "metadata": {
        "id": "QOW2vwsRUxQw"
      }
    },
    {
      "cell_type": "code",
      "source": [
        "fato_jornada = df[[\n",
        "    \"ID do Funcionário\", \"Dias de Falta\", \"Dias de Licença Médica\", \"Dias de Férias\",\n",
        "    \"Horas no Banco\", \"Horas Extras\", \"Ocorrências de Atraso\"\n",
        "]]\n"
      ],
      "metadata": {
        "id": "1YAHU8Q0Pvrh"
      },
      "execution_count": null,
      "outputs": []
    },
    {
      "cell_type": "markdown",
      "source": [
        "tabela_f_desempenho   Performance, promoções e treinamentos"
      ],
      "metadata": {
        "id": "I6wEM-n-U5Kf"
      }
    },
    {
      "cell_type": "markdown",
      "source": [],
      "metadata": {
        "id": "zhHwkoThVDmr"
      }
    },
    {
      "cell_type": "code",
      "source": [
        "fato_desempenho = df[[\n",
        "    \"ID do Funcionário\", \"Nota de Performance\", \"Data da Última Promoção\",\n",
        "    \"Data do Último Treinamento\"\n",
        "]]\n"
      ],
      "metadata": {
        "id": "Bzkk36leU429"
      },
      "execution_count": null,
      "outputs": []
    },
    {
      "cell_type": "code",
      "source": [
        "dim_colaborador.to_csv(\"tabela_dim_colaborador.csv\", index=False)\n",
        "dim_remuneracao.to_csv(\"tabela_dim_remuneracao.csv\", index=False)\n",
        "fato_jornada.to_csv(\"tabela_fato_jornada.csv\", index=False)\n",
        "fato_desempenho.to_csv(\"tabela_fato_desempenho.csv\", index=False)\n"
      ],
      "metadata": {
        "id": "Cy8K04KHPvpB"
      },
      "execution_count": null,
      "outputs": []
    },
    {
      "cell_type": "code",
      "source": [
        "from google.colab import files\n",
        "files.download(\"tabela_dim_colaborador.csv\")\n",
        "files.download(\"tabela_dim_remuneracao.csv\")\n",
        "files.download(\"tabela_fato_jornada.csv\")\n",
        "files.download(\"tabela_fato_desempenho.csv\")\n"
      ],
      "metadata": {
        "id": "KHBAbetYPviq"
      },
      "execution_count": null,
      "outputs": []
    }
  ]
}